{
 "cells": [
  {
   "cell_type": "markdown",
   "id": "6c1f745e",
   "metadata": {},
   "source": [
    "## 01 - Limpieza de datos "
   ]
  },
  {
   "cell_type": "markdown",
   "id": "ffb40aca",
   "metadata": {},
   "source": [
    "En esta primera fase, realizaremos una exploración inicial de los datos para entenderlos y realizaremos una limpieza completa del dataset"
   ]
  },
  {
   "cell_type": "markdown",
   "id": "e3ccd82c",
   "metadata": {},
   "source": [
    "Empezamos cargando las librerías básicas necesarias y cargando los datos"
   ]
  },
  {
   "cell_type": "code",
   "execution_count": 91,
   "id": "54512d07",
   "metadata": {},
   "outputs": [],
   "source": [
    "import numpy as np\n",
    "import pandas as pd\n",
    "import matplotlib.pyplot as plt\n",
    "import seaborn as sns"
   ]
  },
  {
   "cell_type": "code",
   "execution_count": 6,
   "id": "b08b0664",
   "metadata": {},
   "outputs": [
    {
     "data": {
      "text/html": [
       "<div>\n",
       "<style scoped>\n",
       "    .dataframe tbody tr th:only-of-type {\n",
       "        vertical-align: middle;\n",
       "    }\n",
       "\n",
       "    .dataframe tbody tr th {\n",
       "        vertical-align: top;\n",
       "    }\n",
       "\n",
       "    .dataframe thead th {\n",
       "        text-align: right;\n",
       "    }\n",
       "</style>\n",
       "<table border=\"1\" class=\"dataframe\">\n",
       "  <thead>\n",
       "    <tr style=\"text-align: right;\">\n",
       "      <th></th>\n",
       "      <th>horas_estudio_semanal</th>\n",
       "      <th>nota_anterior</th>\n",
       "      <th>tasa_asistencia</th>\n",
       "      <th>horas_sueno</th>\n",
       "      <th>edad</th>\n",
       "      <th>nivel_dificultad</th>\n",
       "      <th>tiene_tutor</th>\n",
       "      <th>horario_estudio_preferido</th>\n",
       "      <th>estilo_aprendizaje</th>\n",
       "      <th>nota_final</th>\n",
       "      <th>aprobado</th>\n",
       "    </tr>\n",
       "  </thead>\n",
       "  <tbody>\n",
       "    <tr>\n",
       "      <th>211</th>\n",
       "      <td>10.787347</td>\n",
       "      <td>72.552771</td>\n",
       "      <td>100.000000</td>\n",
       "      <td>6.805627</td>\n",
       "      <td>23</td>\n",
       "      <td>Fácil</td>\n",
       "      <td>No</td>\n",
       "      <td>Tarde</td>\n",
       "      <td>Kinestésico</td>\n",
       "      <td>81.1</td>\n",
       "      <td>1</td>\n",
       "    </tr>\n",
       "    <tr>\n",
       "      <th>567</th>\n",
       "      <td>13.212716</td>\n",
       "      <td>54.268786</td>\n",
       "      <td>100.000000</td>\n",
       "      <td>4.007544</td>\n",
       "      <td>26</td>\n",
       "      <td>Medio</td>\n",
       "      <td>Sí</td>\n",
       "      <td>NaN</td>\n",
       "      <td>Lectura/Escritura</td>\n",
       "      <td>71.5</td>\n",
       "      <td>1</td>\n",
       "    </tr>\n",
       "    <tr>\n",
       "      <th>446</th>\n",
       "      <td>15.773073</td>\n",
       "      <td>66.679844</td>\n",
       "      <td>51.907706</td>\n",
       "      <td>6.590366</td>\n",
       "      <td>27</td>\n",
       "      <td>Medio</td>\n",
       "      <td>Sí</td>\n",
       "      <td>Tarde</td>\n",
       "      <td>Visual</td>\n",
       "      <td>67.9</td>\n",
       "      <td>1</td>\n",
       "    </tr>\n",
       "    <tr>\n",
       "      <th>442</th>\n",
       "      <td>12.126139</td>\n",
       "      <td>89.474066</td>\n",
       "      <td>98.892569</td>\n",
       "      <td>6.308178</td>\n",
       "      <td>29</td>\n",
       "      <td>Fácil</td>\n",
       "      <td>No</td>\n",
       "      <td>NaN</td>\n",
       "      <td>Kinestésico</td>\n",
       "      <td>89.3</td>\n",
       "      <td>1</td>\n",
       "    </tr>\n",
       "    <tr>\n",
       "      <th>440</th>\n",
       "      <td>1.000000</td>\n",
       "      <td>60.683516</td>\n",
       "      <td>60.238223</td>\n",
       "      <td>6.394967</td>\n",
       "      <td>21</td>\n",
       "      <td>Medio</td>\n",
       "      <td>No</td>\n",
       "      <td>Tarde</td>\n",
       "      <td>Kinestésico</td>\n",
       "      <td>65.3</td>\n",
       "      <td>1</td>\n",
       "    </tr>\n",
       "  </tbody>\n",
       "</table>\n",
       "</div>"
      ],
      "text/plain": [
       "     horas_estudio_semanal  nota_anterior  tasa_asistencia  horas_sueno  edad  \\\n",
       "211              10.787347      72.552771       100.000000     6.805627    23   \n",
       "567              13.212716      54.268786       100.000000     4.007544    26   \n",
       "446              15.773073      66.679844        51.907706     6.590366    27   \n",
       "442              12.126139      89.474066        98.892569     6.308178    29   \n",
       "440               1.000000      60.683516        60.238223     6.394967    21   \n",
       "\n",
       "    nivel_dificultad tiene_tutor horario_estudio_preferido estilo_aprendizaje  \\\n",
       "211            Fácil          No                     Tarde        Kinestésico   \n",
       "567            Medio          Sí                       NaN  Lectura/Escritura   \n",
       "446            Medio          Sí                     Tarde             Visual   \n",
       "442            Fácil          No                       NaN        Kinestésico   \n",
       "440            Medio          No                     Tarde        Kinestésico   \n",
       "\n",
       "     nota_final  aprobado  \n",
       "211        81.1         1  \n",
       "567        71.5         1  \n",
       "446        67.9         1  \n",
       "442        89.3         1  \n",
       "440        65.3         1  "
      ]
     },
     "execution_count": 6,
     "metadata": {},
     "output_type": "execute_result"
    }
   ],
   "source": [
    "df = pd.read_csv(\"../data/dataset_estudiantes.csv\")\n",
    "df.sample(5)"
   ]
  },
  {
   "cell_type": "markdown",
   "id": "b2133a04",
   "metadata": {},
   "source": [
    "Como primer paso, trataremos de entender los datos que tenemos y crear una tabla de metadatos"
   ]
  },
  {
   "cell_type": "code",
   "execution_count": 8,
   "id": "5806391c",
   "metadata": {},
   "outputs": [
    {
     "data": {
      "text/plain": [
       "(1000, 11)"
      ]
     },
     "execution_count": 8,
     "metadata": {},
     "output_type": "execute_result"
    }
   ],
   "source": [
    "df.shape"
   ]
  },
  {
   "cell_type": "code",
   "execution_count": 7,
   "id": "03603d92",
   "metadata": {},
   "outputs": [
    {
     "data": {
      "text/plain": [
       "Index(['horas_estudio_semanal', 'nota_anterior', 'tasa_asistencia',\n",
       "       'horas_sueno', 'edad', 'nivel_dificultad', 'tiene_tutor',\n",
       "       'horario_estudio_preferido', 'estilo_aprendizaje', 'nota_final',\n",
       "       'aprobado'],\n",
       "      dtype='object')"
      ]
     },
     "execution_count": 7,
     "metadata": {},
     "output_type": "execute_result"
    }
   ],
   "source": [
    "df.columns"
   ]
  },
  {
   "cell_type": "markdown",
   "id": "0e18f431",
   "metadata": {},
   "source": [
    "Ya tenemos listos los datos, podemos ver que hay 1.000 filas (estudiantes) y 11 columnas (catacterísticas)"
   ]
  },
  {
   "cell_type": "markdown",
   "id": "a4a26e7f",
   "metadata": {},
   "source": [
    "### **Descripción de las variables**\n",
    "\n",
    "\n",
    "\n",
    "- **`horas_estudio_semanal`**: Número de horas que el estudiante dedica al estudio por semana.\n",
    "- **`nota_anterior`**: Nota que obtuvo el alumno en la convocatoria anterior.\n",
    "- **`tasa_asistencia`**: Porcentaje de clases a las que asistió el estudiante.\n",
    "- **`horas_sueno`**: Número promedio de horas de sueño por noche.\n",
    "- **`edad`**: Edad del estudiante (en años).\n",
    "- **`nivel_dificultad`**: Dificultad que percibe el alumno respecto a sus estudios (Fácil, Medio, Difícil).\n",
    "- **`tiene_tutor`**: Indica si el alumno cuenta con tutor académico (Sí / No).\n",
    "- **`horario_estudio_preferido`**: Horario de estudio que el estudiante prefiere (Mañana, Tarde, Noche).\n",
    "- **`estilo_aprendizaje`**: Estilo de aprendizaje principal del alumno (Visual, Auditivo, Lectura/Escritura, Kinestésico).\n",
    "- **`nota_final`**: Nota final del curso. Variable objetivo para tareas de **regresión**.\n",
    "- **`aprobado`**: Indica si el estudiante aprobó (1) o no (0). Variable objetivo para **clasificación**."
   ]
  },
  {
   "cell_type": "markdown",
   "id": "521df943",
   "metadata": {},
   "source": [
    "Vamos a ver ahora un  primer vistazo de sus distribuciones, rangos, outleirs y nulos "
   ]
  },
  {
   "cell_type": "code",
   "execution_count": 11,
   "id": "1f7cc364",
   "metadata": {},
   "outputs": [
    {
     "name": "stdout",
     "output_type": "stream",
     "text": [
      "<class 'pandas.core.frame.DataFrame'>\n",
      "RangeIndex: 1000 entries, 0 to 999\n",
      "Data columns (total 11 columns):\n",
      " #   Column                     Non-Null Count  Dtype  \n",
      "---  ------                     --------------  -----  \n",
      " 0   horas_estudio_semanal      1000 non-null   float64\n",
      " 1   nota_anterior              1000 non-null   float64\n",
      " 2   tasa_asistencia            1000 non-null   float64\n",
      " 3   horas_sueno                850 non-null    float64\n",
      " 4   edad                       1000 non-null   int64  \n",
      " 5   nivel_dificultad           1000 non-null   object \n",
      " 6   tiene_tutor                1000 non-null   object \n",
      " 7   horario_estudio_preferido  900 non-null    object \n",
      " 8   estilo_aprendizaje         950 non-null    object \n",
      " 9   nota_final                 1000 non-null   float64\n",
      " 10  aprobado                   1000 non-null   int64  \n",
      "dtypes: float64(5), int64(2), object(4)\n",
      "memory usage: 86.1+ KB\n"
     ]
    }
   ],
   "source": [
    "df.info()"
   ]
  },
  {
   "cell_type": "markdown",
   "id": "f8b0a78c",
   "metadata": {},
   "source": [
    "Podemos observar:\n",
    "- Hay 3 columnas con nulos\n",
    "- Tenemos 7 columnas numéricas y 4 categóricas"
   ]
  },
  {
   "cell_type": "code",
   "execution_count": 12,
   "id": "8bcfc8cc",
   "metadata": {},
   "outputs": [
    {
     "data": {
      "text/html": [
       "<div>\n",
       "<style scoped>\n",
       "    .dataframe tbody tr th:only-of-type {\n",
       "        vertical-align: middle;\n",
       "    }\n",
       "\n",
       "    .dataframe tbody tr th {\n",
       "        vertical-align: top;\n",
       "    }\n",
       "\n",
       "    .dataframe thead th {\n",
       "        text-align: right;\n",
       "    }\n",
       "</style>\n",
       "<table border=\"1\" class=\"dataframe\">\n",
       "  <thead>\n",
       "    <tr style=\"text-align: right;\">\n",
       "      <th></th>\n",
       "      <th>horas_estudio_semanal</th>\n",
       "      <th>nota_anterior</th>\n",
       "      <th>tasa_asistencia</th>\n",
       "      <th>horas_sueno</th>\n",
       "      <th>edad</th>\n",
       "      <th>nota_final</th>\n",
       "      <th>aprobado</th>\n",
       "    </tr>\n",
       "  </thead>\n",
       "  <tbody>\n",
       "    <tr>\n",
       "      <th>count</th>\n",
       "      <td>1000.000000</td>\n",
       "      <td>1000.000000</td>\n",
       "      <td>1000.000000</td>\n",
       "      <td>850.000000</td>\n",
       "      <td>1000.000000</td>\n",
       "      <td>1000.000000</td>\n",
       "      <td>1000.0000</td>\n",
       "    </tr>\n",
       "    <tr>\n",
       "      <th>mean</th>\n",
       "      <td>10.072366</td>\n",
       "      <td>69.885456</td>\n",
       "      <td>73.992079</td>\n",
       "      <td>7.007670</td>\n",
       "      <td>23.532000</td>\n",
       "      <td>71.441400</td>\n",
       "      <td>0.8980</td>\n",
       "    </tr>\n",
       "    <tr>\n",
       "      <th>std</th>\n",
       "      <td>4.852218</td>\n",
       "      <td>14.687697</td>\n",
       "      <td>18.195948</td>\n",
       "      <td>1.444790</td>\n",
       "      <td>3.476933</td>\n",
       "      <td>9.562078</td>\n",
       "      <td>0.3028</td>\n",
       "    </tr>\n",
       "    <tr>\n",
       "      <th>min</th>\n",
       "      <td>1.000000</td>\n",
       "      <td>30.000000</td>\n",
       "      <td>20.000000</td>\n",
       "      <td>4.000000</td>\n",
       "      <td>18.000000</td>\n",
       "      <td>30.000000</td>\n",
       "      <td>0.0000</td>\n",
       "    </tr>\n",
       "    <tr>\n",
       "      <th>25%</th>\n",
       "      <td>6.627548</td>\n",
       "      <td>59.882644</td>\n",
       "      <td>61.510192</td>\n",
       "      <td>5.995341</td>\n",
       "      <td>21.000000</td>\n",
       "      <td>64.775000</td>\n",
       "      <td>1.0000</td>\n",
       "    </tr>\n",
       "    <tr>\n",
       "      <th>50%</th>\n",
       "      <td>10.000000</td>\n",
       "      <td>70.000000</td>\n",
       "      <td>75.000000</td>\n",
       "      <td>7.020701</td>\n",
       "      <td>24.000000</td>\n",
       "      <td>71.400000</td>\n",
       "      <td>1.0000</td>\n",
       "    </tr>\n",
       "    <tr>\n",
       "      <th>75%</th>\n",
       "      <td>13.372452</td>\n",
       "      <td>80.117356</td>\n",
       "      <td>88.489808</td>\n",
       "      <td>8.018834</td>\n",
       "      <td>27.000000</td>\n",
       "      <td>77.900000</td>\n",
       "      <td>1.0000</td>\n",
       "    </tr>\n",
       "    <tr>\n",
       "      <th>max</th>\n",
       "      <td>25.000000</td>\n",
       "      <td>100.000000</td>\n",
       "      <td>100.000000</td>\n",
       "      <td>10.000000</td>\n",
       "      <td>29.000000</td>\n",
       "      <td>100.000000</td>\n",
       "      <td>1.0000</td>\n",
       "    </tr>\n",
       "  </tbody>\n",
       "</table>\n",
       "</div>"
      ],
      "text/plain": [
       "       horas_estudio_semanal  nota_anterior  tasa_asistencia  horas_sueno  \\\n",
       "count            1000.000000    1000.000000      1000.000000   850.000000   \n",
       "mean               10.072366      69.885456        73.992079     7.007670   \n",
       "std                 4.852218      14.687697        18.195948     1.444790   \n",
       "min                 1.000000      30.000000        20.000000     4.000000   \n",
       "25%                 6.627548      59.882644        61.510192     5.995341   \n",
       "50%                10.000000      70.000000        75.000000     7.020701   \n",
       "75%                13.372452      80.117356        88.489808     8.018834   \n",
       "max                25.000000     100.000000       100.000000    10.000000   \n",
       "\n",
       "              edad   nota_final   aprobado  \n",
       "count  1000.000000  1000.000000  1000.0000  \n",
       "mean     23.532000    71.441400     0.8980  \n",
       "std       3.476933     9.562078     0.3028  \n",
       "min      18.000000    30.000000     0.0000  \n",
       "25%      21.000000    64.775000     1.0000  \n",
       "50%      24.000000    71.400000     1.0000  \n",
       "75%      27.000000    77.900000     1.0000  \n",
       "max      29.000000   100.000000     1.0000  "
      ]
     },
     "execution_count": 12,
     "metadata": {},
     "output_type": "execute_result"
    }
   ],
   "source": [
    "df.describe()"
   ]
  },
  {
   "cell_type": "markdown",
   "id": "a54f1f79",
   "metadata": {},
   "source": [
    "**Observaciones**\n",
    "- A priori no se ven outliers ni valores imposibles.\n",
    "- Las distribuciones están bastante equilibradas, excepto en las horas de estudio semanal, aunque es algo normal\n",
    "- La mayoría de estudiantes asisten a clase y aprueban"
   ]
  },
  {
   "cell_type": "code",
   "execution_count": 22,
   "id": "83ee8b85",
   "metadata": {},
   "outputs": [
    {
     "name": "stdout",
     "output_type": "stream",
     "text": [
      "nivel_dificultad\n",
      "Medio      504\n",
      "Fácil      313\n",
      "Difícil    183\n",
      "Name: count, dtype: int64\n",
      "------------------------\n",
      "tiene_tutor\n",
      "No    597\n",
      "Sí    403\n",
      "Name: count, dtype: int64\n",
      "------------------------\n",
      "horario_estudio_preferido\n",
      "Noche     344\n",
      "Tarde     337\n",
      "Mañana    219\n",
      "Name: count, dtype: int64\n",
      "------------------------\n",
      "estilo_aprendizaje\n",
      "Visual               363\n",
      "Auditivo             254\n",
      "Kinestésico          178\n",
      "Lectura/Escritura    155\n",
      "Name: count, dtype: int64\n",
      "------------------------\n"
     ]
    }
   ],
   "source": [
    "cat_cols = df.select_dtypes(include = 'O')\n",
    "\n",
    "for col in cat_cols:\n",
    "    print(df[col].value_counts())\n",
    "    print(\"------------------------\")"
   ]
  },
  {
   "cell_type": "markdown",
   "id": "bfbb7f9a",
   "metadata": {},
   "source": [
    "**Observaciones**\n",
    "- El nivel de dificultad es la valro menos balanceada, la mayoría tiene nivel medio\n",
    "- La mayoría de estudianbtes tiene tutor\n",
    "- El horario preferido es noche, aunque está algo más equiliobrado\n",
    "- El estilo de aprendizaje más común es \"Visual\", seguido por \"Auditivo\", mientras que los estilos \"Kinestésico\" y \"Lectura/Escritura\" son menos frecuentes."
   ]
  },
  {
   "cell_type": "code",
   "execution_count": 24,
   "id": "bd5abad1",
   "metadata": {},
   "outputs": [
    {
     "data": {
      "text/plain": [
       "np.int64(0)"
      ]
     },
     "execution_count": 24,
     "metadata": {},
     "output_type": "execute_result"
    }
   ],
   "source": [
    "df.duplicated().sum()"
   ]
  },
  {
   "cell_type": "markdown",
   "id": "3c9821da",
   "metadata": {},
   "source": [
    "No hay valores duplicados en este dataset"
   ]
  },
  {
   "cell_type": "code",
   "execution_count": 32,
   "id": "6d9e67d7",
   "metadata": {},
   "outputs": [
    {
     "data": {
      "text/plain": [
       "horas_estudio_semanal          0\n",
       "nota_anterior                  0\n",
       "tasa_asistencia                0\n",
       "horas_sueno                  150\n",
       "edad                           0\n",
       "nivel_dificultad               0\n",
       "tiene_tutor                    0\n",
       "horario_estudio_preferido    100\n",
       "estilo_aprendizaje            50\n",
       "nota_final                     0\n",
       "aprobado                       0\n",
       "dtype: int64"
      ]
     },
     "execution_count": 32,
     "metadata": {},
     "output_type": "execute_result"
    }
   ],
   "source": [
    "df.isnull().sum()"
   ]
  },
  {
   "cell_type": "code",
   "execution_count": 36,
   "id": "f76dace0",
   "metadata": {},
   "outputs": [
    {
     "data": {
      "text/plain": [
       "horas_sueno                  15.0\n",
       "horario_estudio_preferido    10.0\n",
       "estilo_aprendizaje            5.0\n",
       "dtype: float64"
      ]
     },
     "execution_count": 36,
     "metadata": {},
     "output_type": "execute_result"
    }
   ],
   "source": [
    "nulos = df.isnull().sum() / df.shape[0] * 100\n",
    "nulos[nulos > 0]"
   ]
  },
  {
   "cell_type": "markdown",
   "id": "1434fd32",
   "metadata": {},
   "source": [
    "- Horas_sueño y horario estudio tienen un número importante de nulos\n",
    "- estilo aprendizaje tiene 50 nulos, un 5%, algo no tan importante pero importante a tener en cuenta"
   ]
  },
  {
   "cell_type": "markdown",
   "id": "ee016ead",
   "metadata": {},
   "source": [
    "Con todo esto, ya podemos crear una tabla a modo de resumen sobre nuestros datos:"
   ]
  },
  {
   "cell_type": "markdown",
   "id": "20c30928",
   "metadata": {},
   "source": [
    "### **Tabla de Metadatos del Dataset de Estudiantes**\n",
    "\n",
    "| Nombre de la variable         | Tipo de variable     | Descripción                                                  | Posibles valores                                     | Observaciones                                                  |\n",
    "|------------------------------|----------------------|--------------------------------------------------------------|------------------------------------------------------|----------------------------------------------------------------|\n",
    "| horas_estudio_semanal        | Numérica continua    | Número de horas de estudio a la semana.                      | 0 - 30                                 | Rango amplio   |\n",
    "| nota_anterior                | Numérica continua    | Nota que obtuvo el alumno en la convocatoria anterior.        | 0 - 100                                               | Posible relación con la nota final.                         |\n",
    "| tasa_asistencia              | Numérica continua    | Tasa de asistencia a clase en porcentaje.                    | 0 - 100                                        | Alta variabilidad, posible predictor fuerte.                  |\n",
    "| horas_sueno                  | Numérica continua    | Promedio de horas que duerme el alumno al día.               | 0 - 12                                 | 15% de valores nulos, distribución relativamente simétrica.   |\n",
    "| edad                         | Numérica discreta     | Edad del alumno.                                             | 18 - 30 (enseñanza básica)                                | Sin outliers, ligeramente sesgada hacia edades más jóvenes.   |\n",
    "| nivel_dificultad             | Categórica ordinal   | Dificultad del alumno para el estudio.                       | 'Baja', 'Media', 'Alta'                               | Puede influir en la necesidad de apoyo académico.             |\n",
    "| tiene_tutor                  | Categórica binaria   | Indica si el alumno tiene tutor o no.                        | 'Sí', 'No'                                           | 10% de nulos              |\n",
    "| horario_estudio_preferido    | Categórica nominal   | Horario de estudio preferido por el alumno.                  | 'Mañana', 'Tarde', 'Noche'  | Puede relacionarse con hábitos y rendimiento.                 |\n",
    "| estilo_aprendizaje           | Categórica nominal   | Forma de estudio que emplea el alumno.                       | 'Visual', 'Auditivo', 'Kinestésico', 'Lectura/Escritura'| 5% de nulos                     |\n",
    "| nota_final (Objetivo - Reg)  | Numérica continua    | Nota final del alumno.                                       | 0 - 100                                               | Variable objetivo para modelos de regresión.                  |\n",
    "| aprobado (Objetivo - Clas)   | Categórica binaria   | Indica si el alumno aprobó (nota_final ≥ 60).                | 0 = No, 1 = Sí                                        | Desbalance de clases: 90% de aprobados.                       |\n"
   ]
  },
  {
   "cell_type": "markdown",
   "id": "8651df05",
   "metadata": {},
   "source": [
    "Una vez ya tenemos un mayor entendimiento de nuestros datos, pasamos a la fase de limpieza"
   ]
  },
  {
   "cell_type": "markdown",
   "id": "5e7308ee",
   "metadata": {},
   "source": [
    "Comenzamos con el tratamiento de valores nulos, en la que deberemos tener en cuenta 3 variables:\n",
    "- horas_sueno con 15% de nulos, un gran número\n",
    "- horarios_estudio_preferido con 10% de nulos\n",
    "- estilo_aprendizaje con 5% de nulos\n",
    "\n",
    "Vamos primero con horas de sueño:"
   ]
  },
  {
   "cell_type": "code",
   "execution_count": 47,
   "id": "385a6d7a",
   "metadata": {},
   "outputs": [
    {
     "data": {
      "image/png": "[encoded data removed]",
      "text/plain": [
       "<Figure size 600x400 with 1 Axes>"
      ]
     },
     "metadata": {},
     "output_type": "display_data"
    }
   ],
   "source": [
    "plt.figure(figsize = (6,4))\n",
    "sns.histplot(df[\"horas_sueno\"], kde = True, bins = 20)\n",
    "plt.title(\"Distribución de las horas de sueño\")\n",
    "plt.xlabel(\"Horas de sueño\")\n",
    "plt.ylabel(\"Frecuencia\")\n",
    "plt.show()"
   ]
  },
  {
   "cell_type": "markdown",
   "id": "a8886175",
   "metadata": {},
   "source": [
    "Sigue una distribución normal con picos en mínimo y máximo\n",
    "\n",
    "Veremos si tiene relación con horario_estudio_preferido para ver si sería útil utilizar knn:"
   ]
  },
  {
   "cell_type": "code",
   "execution_count": 45,
   "id": "d0a8b2a2",
   "metadata": {},
   "outputs": [
    {
     "data": {
      "image/png": "[encoded data removed]",
      "text/plain": [
       "<Figure size 640x480 with 1 Axes>"
      ]
     },
     "metadata": {},
     "output_type": "display_data"
    }
   ],
   "source": [
    "sns.boxplot(x='horario_estudio_preferido', y='horas_sueno', data=df)\n",
    "plt.title('Horas de sueño según horario de estudio preferido')\n",
    "plt.show()"
   ]
  },
  {
   "cell_type": "markdown",
   "id": "d4d2d286",
   "metadata": {},
   "source": [
    "No tiene relación, veremos ahora con otras variables numéicas:"
   ]
  },
  {
   "cell_type": "code",
   "execution_count": 49,
   "id": "0866d288",
   "metadata": {},
   "outputs": [
    {
     "data": {
      "text/plain": [
       "horas_sueno              1.000000\n",
       "tasa_asistencia          0.111229\n",
       "edad                     0.100132\n",
       "horas_estudio_semanal    0.078932\n",
       "nota_final               0.074635\n",
       "nota_anterior            0.070166\n",
       "aprobado                 0.050793\n",
       "Name: horas_sueno, dtype: float64"
      ]
     },
     "execution_count": 49,
     "metadata": {},
     "output_type": "execute_result"
    }
   ],
   "source": [
    "df.corr(numeric_only=True)['horas_sueno'].sort_values(ascending=False)"
   ]
  },
  {
   "cell_type": "markdown",
   "id": "351ef31d",
   "metadata": {},
   "source": [
    "No hay relación, por lo que knn o inbterativeimputer no servirían mucho"
   ]
  },
  {
   "cell_type": "code",
   "execution_count": 51,
   "id": "21633deb",
   "metadata": {},
   "outputs": [
    {
     "data": {
      "text/plain": [
       "count    850.000000\n",
       "mean       7.007670\n",
       "std        1.444790\n",
       "min        4.000000\n",
       "25%        5.995341\n",
       "50%        7.020701\n",
       "75%        8.018834\n",
       "max       10.000000\n",
       "Name: horas_sueno, dtype: float64"
      ]
     },
     "execution_count": 51,
     "metadata": {},
     "output_type": "execute_result"
    }
   ],
   "source": [
    "df.horas_sueno.describe()"
   ]
  },
  {
   "cell_type": "markdown",
   "id": "c5924177",
   "metadata": {},
   "source": [
    "Utilizaremos la media,q ue es igual que la mediana, ya que la mayoría de datos se concentran ahí, y sigue una distribución normal"
   ]
  },
  {
   "cell_type": "code",
   "execution_count": 73,
   "id": "6e1df12a",
   "metadata": {},
   "outputs": [],
   "source": [
    "hsmean= df.horas_sueno.mean()\n",
    "df[\"horas_sueno\"] = df[\"horas_sueno\"].fillna(hsmean)"
   ]
  },
  {
   "cell_type": "markdown",
   "id": "32dde67e",
   "metadata": {},
   "source": [
    "Vamos ahora con horario estudio preferido y estilo_aprendizaje"
   ]
  },
  {
   "cell_type": "code",
   "execution_count": 68,
   "id": "48937339",
   "metadata": {},
   "outputs": [
    {
     "data": {
      "image/png": "[encoded data removed]",
      "text/plain": [
       "<Figure size 1000x600 with 2 Axes>"
      ]
     },
     "metadata": {},
     "output_type": "display_data"
    }
   ],
   "source": [
    "fig, ax = plt.subplots(1, 2, figsize=(10,6))\n",
    "sns.countplot(x = df[\"horario_estudio_preferido\"],  data=df, ax = ax[0])\n",
    "sns.countplot(x = df[\"estilo_aprendizaje\"], data=df, ax = ax[1])\n",
    "plt.show()"
   ]
  },
  {
   "cell_type": "markdown",
   "id": "ff21ccf5",
   "metadata": {},
   "source": [
    "- Horario_estudio_preferido está decentemente balanceado, aunque hay menos en mañana\n",
    "\n",
    "- estilo_aprendizaje tiene la mayoría en visual, el resto está mejor balanceado\n",
    "\n",
    "Para no crear sesgos, rellenaremos con desconocido:"
   ]
  },
  {
   "cell_type": "code",
   "execution_count": 70,
   "id": "c5129a81",
   "metadata": {},
   "outputs": [],
   "source": [
    "df[[\"horario_estudio_preferido\", \"estilo_aprendizaje\"]] = df[[\"horario_estudio_preferido\", \"estilo_aprendizaje\"]].fillna(\"Desconocido\")"
   ]
  },
  {
   "cell_type": "code",
   "execution_count": 74,
   "id": "9ae8016d",
   "metadata": {},
   "outputs": [
    {
     "data": {
      "text/plain": [
       "horas_estudio_semanal        0\n",
       "nota_anterior                0\n",
       "tasa_asistencia              0\n",
       "horas_sueno                  0\n",
       "edad                         0\n",
       "nivel_dificultad             0\n",
       "tiene_tutor                  0\n",
       "horario_estudio_preferido    0\n",
       "estilo_aprendizaje           0\n",
       "nota_final                   0\n",
       "aprobado                     0\n",
       "dtype: int64"
      ]
     },
     "execution_count": 74,
     "metadata": {},
     "output_type": "execute_result"
    }
   ],
   "source": [
    "df.isnull().sum()"
   ]
  },
  {
   "cell_type": "markdown",
   "id": "7362cadf",
   "metadata": {},
   "source": [
    "Podemos observar que ya hemos tratado todos los nulos correctamente, pasamos al siguiente paso"
   ]
  },
  {
   "cell_type": "markdown",
   "id": "8435a0bd",
   "metadata": {},
   "source": [
    "Vamos a ver ahora si existen outliers:"
   ]
  },
  {
   "cell_type": "code",
   "execution_count": 81,
   "id": "0b9e842d",
   "metadata": {},
   "outputs": [
    {
     "data": {
      "text/plain": [
       "Index(['horas_estudio_semanal', 'nota_anterior', 'tasa_asistencia',\n",
       "       'horas_sueno', 'edad', 'nota_final', 'aprobado'],\n",
       "      dtype='object')"
      ]
     },
     "execution_count": 81,
     "metadata": {},
     "output_type": "execute_result"
    }
   ],
   "source": [
    "num_cols = df.select_dtypes(include=[\"number\"]).columns\n",
    "num_cols"
   ]
  },
  {
   "cell_type": "code",
   "execution_count": 103,
   "id": "6b8fd5a8",
   "metadata": {},
   "outputs": [
    {
     "data": {
      "image/png": "[encoded data removed]",
      "text/plain": [
       "<Figure size 1200x2000 with 8 Axes>"
      ]
     },
     "metadata": {},
     "output_type": "display_data"
    }
   ],
   "source": [
    "n_rows = np.ceil(len(num_cols) / 2).astype(int)\n",
    "\n",
    "fig, ax = plt.subplots(n_rows, 2, figsize=(12, 5 * n_rows))\n",
    "ax = ax.flatten()\n",
    "\n",
    "for i, col in enumerate(num_cols):\n",
    "    sns.boxplot(x=df[col], ax=ax[i])\n",
    "\n",
    "plt.show()"
   ]
  },
  {
   "cell_type": "markdown",
   "id": "346253f2",
   "metadata": {},
   "source": [
    "Podemos ver que marca que algunas variables tienen outliers, a pesar de eso, los valores son totalmente normales y entendibles.\n",
    "\n",
    "Además, no se alejan demasiado, por lo que no los trataremos"
   ]
  },
  {
   "cell_type": "markdown",
   "id": "57de13bb",
   "metadata": {},
   "source": [
    "### Situación actual:\n",
    "En este punto ya tenemos:\n",
    "- Limpieza de nulos y duplicados\n",
    "- Tratamiento de Outliers\n",
    "- Detección de inconsistencias\n",
    "- Tipos correctos\n",
    "\n",
    "Con esto finaliza la fase de limpieza. Podemos pasar al Análisis Exploratorio de Datos (EDA). Guardaremos el DataFrame limpio para utilizarlo en el notebook 02."
   ]
  },
  {
   "cell_type": "code",
   "execution_count": 108,
   "id": "24bdaa49",
   "metadata": {},
   "outputs": [],
   "source": [
    "df.to_csv(\"../data/clean_dataset_estudiantes.csv\", index = False)"
   ]
  }
 ],
 "metadata": {
  "kernelspec": {
   "display_name": "xgbprueba",
   "language": "python",
   "name": "python3"
  },
  "language_info": {
   "codemirror_mode": {
    "name": "ipython",
    "version": 3
   },
   "file_extension": ".py",
   "mimetype": "text/x-python",
   "name": "python",
   "nbconvert_exporter": "python",
   "pygments_lexer": "ipython3",
   "version": "3.13.2"
  }
 },
 "nbformat": 4,
 "nbformat_minor": 5
}
